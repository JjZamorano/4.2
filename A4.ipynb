{
 "cells": [
  {
   "cell_type": "markdown",
   "metadata": {
    "id": "duYzjmeYSVsS"
   },
   "source": [
    "**Nombre del equipo:**\n",
    "\n",
    "**Integrantes:**\n",
    "1.   \n",
    "2.   \n",
    "3.\n",
    "4.\n",
    "\n",
    "INSTRUCCIONES\n",
    "\n",
    "Este es un pequeo taller que se divide en dos partes: Programación de métricas de evaluación y análisis de exactitud con un conjunto de datos. Vayan siguiendo cada uno de los pasos solicitados (que la fuerza lo acompañe...)\n",
    "\n",
    "# Parte 1: Programación de funciones\n",
    "(30 puntos)\n",
    "\n",
    "Programa una función que genere la matriz de confusión de un conjunto de datos. La función debe tener los siguientes elementos:\n",
    "\n",
    "-- **Recibe como parámetros:** Clases reales (Serie), clases asignadas (lista) y clase objetivo (cadena)\n",
    "\n",
    "-- **Retorna:** Elementos de la matriz de confusión (tp,fn,fp,tn) en variables tipos float con 4 puntos decimales además de imprimirlos con el formato de matriz"
   ]
  },
  {
   "cell_type": "code",
   "execution_count": 37,
   "metadata": {
    "id": "j-Mxs0QbPclB"
   },
   "outputs": [],
   "source": [
    "\n",
    "import pandas as pd\n",
    "from pandas import Series\n",
    "\n",
    "def calcular_matriz_confusion(y_true: pd.Series, y_pred: list, target_class: str):\n",
    "    #Convertir la lista de predicciones a una Serie de pandas para facilitar la comparacion\n",
    "    y_pred_series = pd.Series(y_pred, index=y_true.index)\n",
    "\n",
    "    #Identificar la clase no objetivo para claridad en los cálculos y la impresion\n",
    "    other_class = y_true[y_true != target_class].unique()[0] if len(y_true[y_true != target_class].unique()) > 0 else f\"No {target_class}\"\n",
    "\n",
    "\n",
    "    #Calcular Verdaderos Positivos (TP)\n",
    "    tp = ((y_true == target_class) & (y_pred_series == target_class)).sum()\n",
    "\n",
    "    #Calcular Falsos Negativos (FN)\n",
    "    fn = ((y_true == target_class) & (y_pred_series != target_class)).sum()\n",
    "\n",
    "    #Calcular Falsos Positivos (FP)\n",
    "    fp = ((y_true != target_class) & (y_pred_series == target_class)).sum()\n",
    "\n",
    "    #Calcular Verdaderos Negativos (TN)\n",
    "    tn = ((y_true != target_class) & (y_pred_series != target_class)).sum()\n",
    "\n",
    "      #Imprimir la matriz de confusion formateada\n",
    "    print(\"Matriz de Confusion:\")\n",
    "    print(f\"                 Prediccion: {target_class}  Prediccion: {other_class}\")\n",
    "    print(f\"Real: {target_class: <12} {tp:^18} {fn:^22}\")\n",
    "    print(f\"Real: {other_class: <12} {fp:^18} {tn:^22}\")\n",
    "    \n",
    "\n",
    "    #Formatear los resultados a 4 decimales y retornarlos\n",
    "    tp_f = float(f\"{tp:.4f}\")\n",
    "    fn_f = float(f\"{fn:.4f}\")\n",
    "    fp_f = float(f\"{fp:.4f}\")\n",
    "    tn_f = float(f\"{tn:.4f}\")\n",
    "\n",
    "    return tp_f, fn_f, fp_f, tn_f\n"
   ]
  },
  {
   "cell_type": "code",
   "execution_count": null,
   "metadata": {},
   "outputs": [
    {
     "name": "stdout",
     "output_type": "stream",
     "text": [
      "Matriz de Confusion:\n",
      "                 Prediccion: Neg  Prediccion: Pos\n",
      "Real: Neg                  3                    3           \n",
      "Real: Pos                  5                    4           \n",
      "\n",
      "Valores retornados (TP, FN, FP, TN):\n",
      "TP: 3.0\n",
      "FN: 3.0\n",
      "FP: 5.0\n",
      "TN: 4.0\n"
     ]
    }
   ],
   "source": [
    "# Datos proporcionados\n",
    "Clase_objetivo='Neg'\n",
    "real=pd.Series(['Pos','Pos','Neg','Neg','Neg','Pos','Pos','Pos','Pos','Pos','Neg','Pos','Neg','Pos','Neg'])\n",
    "predict=['Pos','Neg','Neg','Neg','Pos','Pos','Pos','Neg','Neg','Pos','Pos','Neg','Neg','Neg','Pos']\n",
    "\n",
    "#Llamada a la funcion con los datos proporcionados\n",
    "TP, FN, FP, TN = calcular_matriz_confusion(real, predict, Clase_objetivo)\n",
    "\n",
    "# Imprimir los valores retornados por la funcion\n",
    "print(\"\\nValores retornados (TP, FN, FP, TN):\")\n",
    "print(f\"TP: {TP}\")\n",
    "print(f\"FN: {FN}\")\n",
    "print(f\"FP: {FP}\")\n",
    "print(f\"TN: {TN}\")"
   ]
  },
  {
   "cell_type": "markdown",
   "metadata": {
    "id": "5RFeKoBBPck_"
   },
   "source": [
    "Programa una función que calcule las métricas de precisión, exhaustividad y métrica F, conlas siguientes caacterísticas\n",
    "\n",
    "-- **Recibe como parámetros:** Elementos de la matriz de confusión (tp,fn,fp,tn) en variables tipos float con 4 puntos decimales\n",
    "\n",
    "-- **Retorna:** Métricas calculadas (p,r,f) como variables flotantes de 4 decimales"
   ]
  },
  {
   "cell_type": "code",
   "execution_count": null,
   "metadata": {
    "id": "i31-A6LkPcB0"
   },
   "outputs": [],
   "source": [
    "def calcular_metricas(tp: float, fn: float, fp: float, tn: float):\n",
    "\n",
    "    #(Precision)\n",
    "    # P = TP / (TP + FP)\n",
    "    if (tp + fp) == 0:\n",
    "        precision = 0.0\n",
    "    else:\n",
    "        precision = tp / (tp + fp)\n",
    "\n",
    "    #(Recall)\n",
    "    # R = TP / (TP + FN)\n",
    "    if (tp + fn) == 0:\n",
    "        recall = 0.0\n",
    "    else:\n",
    "        recall = tp / (tp + fn)\n",
    "\n",
    "    #F1 = 2 * (Precision * Recall) / (Precision + Recall)\n",
    "    if (precision + recall) == 0:\n",
    "        f1_score = 0.0\n",
    "    else:\n",
    "        f1_score = 2 * (precision * recall) / (precision + recall)\n",
    "\n",
    "    #ormatear a 4 decimales y retornar\n",
    "    p_f = float(f\"{precision:.4f}\")\n",
    "    r_f = float(f\"{recall:.4f}\")\n",
    "    f_f = float(f\"{f1_score:.4f}\")\n",
    "\n",
    "    return p_f, r_f, f_f\n"
   ]
  },
  {
   "cell_type": "code",
   "execution_count": null,
   "metadata": {},
   "outputs": [
    {
     "name": "stdout",
     "output_type": "stream",
     "text": [
      "Matriz de Confusion:\n",
      "                 Prediccion: Neg  Prediccion: Pos\n",
      "Real: Neg                  3                    3           \n",
      "Real: Pos                  5                    4           \n",
      "\n",
      "Valores de la matriz de confusión (TP, FN, FP, TN):\n",
      "TP: 3.0\n",
      "FN: 3.0\n",
      "FP: 5.0\n",
      "TN: 4.0\n",
      "\n",
      "Métricas calculadas:\n",
      "Precision: 0.375\n",
      "Recall: 0.5\n",
      "F1: 0.4286\n"
     ]
    }
   ],
   "source": [
    "#Datos proporcionados\n",
    "Clase_objetivo='Neg'\n",
    "real=pd.Series(['Pos','Pos','Neg','Neg','Neg','Pos','Pos','Pos','Pos','Pos','Neg','Pos','Neg','Pos','Neg'])\n",
    "predict=['Pos','Neg','Neg','Neg','Pos','Pos','Pos','Neg','Neg','Pos','Pos','Neg','Neg','Neg','Pos']\n",
    "\n",
    "#Calcular elementos de la matriz de confusion\n",
    "TP, FN, FP, TN = calcular_matriz_confusion(real, predict, Clase_objetivo)\n",
    "\n",
    "print(\"\\nValores de la matriz de confusin\")\n",
    "print(f\"TP: {TP}\")\n",
    "print(f\"FN: {FN}\")\n",
    "print(f\"FP: {FP}\")\n",
    "print(f\"TN: {TN}\")\n",
    "\n",
    "#Calcular metricas usando los valores de la matriz de confusion\n",
    "P, R, F = calcular_metricas(TP, FN, FP, TN)\n",
    "\n",
    "#Imprimir las metricas calculadas\n",
    "print(\"\\nMetricas calculadas:\")\n",
    "print(f\"Precision: {P}\")\n",
    "print(f\"Recall: {R}\")\n",
    "print(f\"F1: {F}\")"
   ]
  },
  {
   "cell_type": "markdown",
   "metadata": {
    "id": "bMHuUICtPxhD"
   },
   "source": [
    "Aplica las funciones programadas anteriormente con los siguientes datos"
   ]
  },
  {
   "cell_type": "code",
   "execution_count": 41,
   "metadata": {
    "id": "uW5Tk_PiPwrt"
   },
   "outputs": [
    {
     "data": {
      "text/plain": [
       "'\\nTP,FN,FP,TN=confusionMatriz(real, predict,Clase_objetivo)\\nP,R,F=metricas(TP,FN,FP,TN)\\nprint(\"Precision:\",P)\\nprint(\"Recall:\",R)\\nprint(\"F1:\",F)\\n'"
      ]
     },
     "execution_count": 41,
     "metadata": {},
     "output_type": "execute_result"
    }
   ],
   "source": [
    "import pandas as pd\n",
    "from pandas import Series\n",
    "Clase_objetivo='Neg'\n",
    "real=pd.Series(['Pos','Pos','Neg','Neg','Neg','Pos','Pos','Pos','Pos','Pos','Neg','Pos','Neg','Pos','Neg'])\n",
    "\n",
    "#Clase asignada por el modelo\n",
    "predict=['Pos','Neg','Neg','Neg','Pos','Pos','Pos','Neg','Neg','Pos','Pos','Neg','Neg','Neg','Pos']\n",
    "\n",
    "#Ejemplo de llamada de funciones\n",
    "\"\"\"\n",
    "TP,FN,FP,TN=confusionMatriz(real, predict,Clase_objetivo)\n",
    "P,R,F=metricas(TP,FN,FP,TN)\n",
    "print(\"Precision:\",P)\n",
    "print(\"Recall:\",R)\n",
    "print(\"F1:\",F)\n",
    "\"\"\""
   ]
  },
  {
   "cell_type": "markdown",
   "metadata": {
    "id": "myJIa8AbRWjq"
   },
   "source": [
    "# Parte 2: Análisis de exactitud\n",
    "\n",
    "(70 puntos)\n",
    "\n",
    "Comparar la exactitud con modelos de arbol de decision y knn\n",
    "## Lectura de datos\n",
    "Se trabajarán con los siguientes conjuntos de datos.\n"
   ]
  },
  {
   "cell_type": "code",
   "execution_count": 42,
   "metadata": {
    "id": "RAvDQ9m-TY7T"
   },
   "outputs": [
    {
     "data": {
      "text/plain": [
       "quality\n",
       "Cat_5    681\n",
       "Cat_7    199\n",
       "Name: count, dtype: int64"
      ]
     },
     "execution_count": 42,
     "metadata": {},
     "output_type": "execute_result"
    }
   ],
   "source": [
    "import pandas as pd\n",
    "from pandas import DataFrame\n",
    "\n",
    "ConjuntoInicial=pd.read_csv('Vinos.csv')\n",
    "ConjuntoInicial.head()\n",
    "\n",
    "\n",
    "#Dividir datos y Clase\n",
    "Datos=ConjuntoInicial.drop('quality', axis=1)\n",
    "Clase=ConjuntoInicial.pop('quality')\n",
    "\n",
    "Clase.value_counts()"
   ]
  },
  {
   "cell_type": "code",
   "execution_count": 43,
   "metadata": {},
   "outputs": [
    {
     "name": "stdout",
     "output_type": "stream",
     "text": [
      "quality\n",
      "Cat_5    204\n",
      "Cat_7     60\n",
      "Name: count, dtype: int64\n"
     ]
    },
    {
     "data": {
      "text/plain": [
       "quality\n",
       "Cat_5    477\n",
       "Cat_7    139\n",
       "Name: count, dtype: int64"
      ]
     },
     "execution_count": 43,
     "metadata": {},
     "output_type": "execute_result"
    }
   ],
   "source": [
    "#Separacion de conjuntos\n",
    "from sklearn.model_selection import train_test_split\n",
    "\n",
    "# Separación de datos en conjuntos de entrenamiento y prueba\n",
    "Datostrain, Datostest, Clasetrain, Clasetest =\\\n",
    "train_test_split(Datos, Clase, test_size=0.3, stratify=Clase)\n",
    "\n",
    "print(Clasetest.value_counts())\n",
    "Clasetrain.value_counts()\n"
   ]
  },
  {
   "cell_type": "markdown",
   "metadata": {
    "id": "kl-f6nSkTe43"
   },
   "source": [
    "## Knn\n",
    "\n",
    "(20 puntos)\n",
    "Genera al menos 8 modelos de Knn, cambiando un parámetro. Recuerda clasificar los dos conjuntos (entrenamiento y  evaluación). Almacena los resultados de exactitud en dos listas"
   ]
  },
  {
   "cell_type": "code",
   "execution_count": 44,
   "metadata": {
    "id": "iXmdumvmTqIw"
   },
   "outputs": [
    {
     "name": "stdout",
     "output_type": "stream",
     "text": [
      "<function calcular_exactitud at 0x000001BEAD6AFF60>\n"
     ]
    }
   ],
   "source": [
    "def calcular_exactitud(y_real, y_pred):\n",
    "    return np.mean(y_real == y_pred) * 100 # Porcentaje\n",
    "print(calcular_exactitud)"
   ]
  },
  {
   "cell_type": "code",
   "execution_count": 45,
   "metadata": {},
   "outputs": [
    {
     "name": "stdout",
     "output_type": "stream",
     "text": [
      "<function distancia_euclidiana at 0x000001BEFFEFDC60>\n"
     ]
    }
   ],
   "source": [
    "def distancia_euclidiana(punto1, punto2):\n",
    "    return np.sqrt(np.sum((np.asarray(punto1) - np.asarray(punto2))**2))\n",
    "print(distancia_euclidiana)"
   ]
  },
  {
   "cell_type": "code",
   "execution_count": null,
   "metadata": {},
   "outputs": [],
   "source": []
  },
  {
   "cell_type": "markdown",
   "metadata": {
    "id": "_OcHTOVtTw1A"
   },
   "source": [
    "## Arbol\n",
    "\n",
    "(20 puntos)\n",
    "Genera al menos 8 modelos de Arbol, cambiando un parámetro. Recuerda clasificar los dos conjuntos (entrenamiento y  evaluación). Almacena los resultados de exactitud en dos listas"
   ]
  },
  {
   "cell_type": "code",
   "execution_count": null,
   "metadata": {},
   "outputs": [],
   "source": []
  },
  {
   "cell_type": "markdown",
   "metadata": {
    "id": "_DV_aTqGUA5C"
   },
   "source": [
    "## Comparación de resultados\n",
    "\n",
    "(20 puntos)\n",
    "Imprime en una tabla los resultados obtenidos en todos los experimentos\n"
   ]
  },
  {
   "cell_type": "code",
   "execution_count": null,
   "metadata": {
    "id": "L388PXhNUOBM"
   },
   "outputs": [],
   "source": []
  },
  {
   "cell_type": "markdown",
   "metadata": {
    "id": "1Hd3JCx1UOUd"
   },
   "source": [
    "Genera dos gráficas (una por clasificador) donde muestres la exactitud en cada experimento."
   ]
  },
  {
   "cell_type": "code",
   "execution_count": null,
   "metadata": {
    "id": "8IO3kqGHUSNg"
   },
   "outputs": [],
   "source": []
  },
  {
   "cell_type": "markdown",
   "metadata": {
    "id": "usP2MzUMUSyH"
   },
   "source": [
    " ## Resultados y conclusiones\n",
    "\n",
    " (10 puntos)\n",
    " Elaboren las conclusiones obtenidas en los experimentos"
   ]
  },
  {
   "cell_type": "markdown",
   "metadata": {
    "id": "_SzRunBnU3Of"
   },
   "source": []
  },
  {
   "cell_type": "markdown",
   "metadata": {
    "id": "yfqNLPrm-oqO"
   },
   "source": []
  }
 ],
 "metadata": {
  "colab": {
   "provenance": []
  },
  "kernelspec": {
   "display_name": "Python 3",
   "name": "python3"
  },
  "language_info": {
   "codemirror_mode": {
    "name": "ipython",
    "version": 3
   },
   "file_extension": ".py",
   "mimetype": "text/x-python",
   "name": "python",
   "nbconvert_exporter": "python",
   "pygments_lexer": "ipython3",
   "version": "3.13.2"
  }
 },
 "nbformat": 4,
 "nbformat_minor": 0
}
